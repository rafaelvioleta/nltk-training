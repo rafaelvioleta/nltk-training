{
  "nbformat": 4,
  "nbformat_minor": 0,
  "metadata": {
    "colab": {
      "name": "5-introduction-to-linear-regression.ipynb",
      "version": "0.3.2",
      "provenance": []
    },
    "kernelspec": {
      "name": "python3",
      "display_name": "Python 3"
    },
    "accelerator": "GPU"
  },
  "cells": [
    {
      "metadata": {
        "id": "5bKg4UtO32SW",
        "colab_type": "code",
        "colab": {}
      },
      "cell_type": "code",
      "source": [
        "import tensorflow as tf\n",
        "import numpy as np\n",
        "\n",
        "from sklearn.datasets import load_iris"
      ],
      "execution_count": 0,
      "outputs": []
    },
    {
      "metadata": {
        "id": "4Trqx4_A4DXq",
        "colab_type": "code",
        "colab": {
          "base_uri": "https://localhost:8080/",
          "height": 185
        },
        "outputId": "086ffb76-ed79-4b89-832d-11fe9a211d01"
      },
      "cell_type": "code",
      "source": [
        "x = load_iris().data\n",
        "y = load_iris().target\n",
        "\n",
        "x[:10], y[:10]"
      ],
      "execution_count": 4,
      "outputs": [
        {
          "output_type": "execute_result",
          "data": {
            "text/plain": [
              "(array([[5.1, 3.5, 1.4, 0.2],\n",
              "        [4.9, 3. , 1.4, 0.2],\n",
              "        [4.7, 3.2, 1.3, 0.2],\n",
              "        [4.6, 3.1, 1.5, 0.2],\n",
              "        [5. , 3.6, 1.4, 0.2],\n",
              "        [5.4, 3.9, 1.7, 0.4],\n",
              "        [4.6, 3.4, 1.4, 0.3],\n",
              "        [5. , 3.4, 1.5, 0.2],\n",
              "        [4.4, 2.9, 1.4, 0.2],\n",
              "        [4.9, 3.1, 1.5, 0.1]]), array([0, 0, 0, 0, 0, 0, 0, 0, 0, 0]))"
            ]
          },
          "metadata": {
            "tags": []
          },
          "execution_count": 4
        }
      ]
    },
    {
      "metadata": {
        "id": "PocN2jnz4keN",
        "colab_type": "code",
        "colab": {
          "base_uri": "https://localhost:8080/",
          "height": 34
        },
        "outputId": "59b19b40-857a-455d-a659-345bd6d01cda"
      },
      "cell_type": "code",
      "source": [
        "#check number of classes\n",
        "np.unique(y)"
      ],
      "execution_count": 5,
      "outputs": [
        {
          "output_type": "execute_result",
          "data": {
            "text/plain": [
              "array([0, 1, 2])"
            ]
          },
          "metadata": {
            "tags": []
          },
          "execution_count": 5
        }
      ]
    },
    {
      "metadata": {
        "id": "0AGk8MYC4WFq",
        "colab_type": "code",
        "colab": {}
      },
      "cell_type": "code",
      "source": [
        "input_features = tf.placeholder(dtype=tf.float32, shape=[None, 4])\n",
        "input_labels = tf.placeholder(dtype=tf.float32, shape=[None, 3])\n",
        "\n",
        "weights = tf.Variable(tf.random_normal(shape=[4,3]))\n",
        "\n",
        "biases = tf.Variable(tf.random_normal(shape=[3]))\n",
        "\n",
        "linear_model = tf.add(tf.matmul(input_features, weights), biases)\n",
        "\n",
        "# average (wx+b -y)**2\n",
        "loss = tf.reduce_mean(tf.square(linear_model - input_labels))\n",
        "train_op = tf.train.GradientDescentOptimizer(learning_rate=0.001).minimize(loss)"
      ],
      "execution_count": 0,
      "outputs": []
    },
    {
      "metadata": {
        "id": "AVyLm2Ry8nyG",
        "colab_type": "code",
        "colab": {}
      },
      "cell_type": "code",
      "source": [
        "sess = tf.Session()\n",
        "sess.run(tf.global_variables_initializer())"
      ],
      "execution_count": 0,
      "outputs": []
    },
    {
      "metadata": {
        "id": "kUah23CS8tjk",
        "colab_type": "code",
        "colab": {}
      },
      "cell_type": "code",
      "source": [
        "def next_batch(batch_size, features, labels):\n",
        "  indices = np.arange(start=0, stop=features.shape[0])\n",
        "  np.random.shuffle(indices)\n",
        "  indices = indices[:batch_size]\n",
        "  return features[indices], labels[indices]"
      ],
      "execution_count": 0,
      "outputs": []
    },
    {
      "metadata": {
        "id": "OWjgYEtK893g",
        "colab_type": "code",
        "colab": {
          "base_uri": "https://localhost:8080/",
          "height": 185
        },
        "outputId": "78d59181-f8a5-483c-c762-7b8d1013dcfc"
      },
      "cell_type": "code",
      "source": [
        "batch_size = 16\n",
        "for epoch in range(10):\n",
        "    for index in range(int(x.shape[0] / batch_size)):\n",
        "      mini_batch_x, mini_batch_y = next_batch(batch_size=batch_size, \n",
        "                                              features=x, \n",
        "                                              labels=y)\n",
        "      from keras.utils import to_categorical\n",
        "      mini_batch_y = to_categorical(mini_batch_y)\n",
        "      _, train_loss = sess.run([train_op, loss], feed_dict={\n",
        "          input_features: mini_batch_x,\n",
        "          input_labels: mini_batch_y\n",
        "      })\n",
        "    print('Epoch {}, loss: {}'.format(epoch, train_loss))"
      ],
      "execution_count": 21,
      "outputs": [
        {
          "output_type": "stream",
          "text": [
            "Epoch 0, loss: 23.74957847595215\n",
            "Epoch 1, loss: 18.34044075012207\n",
            "Epoch 2, loss: 9.613571166992188\n",
            "Epoch 3, loss: 7.284793376922607\n",
            "Epoch 4, loss: 5.554967403411865\n",
            "Epoch 5, loss: 4.843905925750732\n",
            "Epoch 6, loss: 3.9434642791748047\n",
            "Epoch 7, loss: 3.905038595199585\n",
            "Epoch 8, loss: 4.432394504547119\n",
            "Epoch 9, loss: 6.404341220855713\n"
          ],
          "name": "stdout"
        }
      ]
    },
    {
      "metadata": {
        "id": "yCGTQFFj_DOY",
        "colab_type": "code",
        "colab": {}
      },
      "cell_type": "code",
      "source": [
        "#TODO: improve model to logistic regression\n",
        "#TODO: change to neural network"
      ],
      "execution_count": 0,
      "outputs": []
    }
  ]
}