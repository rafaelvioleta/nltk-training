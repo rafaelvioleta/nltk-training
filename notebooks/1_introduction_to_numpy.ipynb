{
  "nbformat": 4,
  "nbformat_minor": 0,
  "metadata": {
    "colab": {
      "name": "1-introduction-to-numpy.ipynb",
      "version": "0.3.2",
      "provenance": [],
      "collapsed_sections": [],
      "toc_visible": true
    },
    "kernelspec": {
      "name": "python3",
      "display_name": "Python 3"
    }
  },
  "cells": [
    {
      "metadata": {
        "id": "8q5RAGinfDFE",
        "colab_type": "code",
        "colab": {
          "base_uri": "https://localhost:8080/",
          "height": 595
        },
        "outputId": "cd60367c-25d8-4621-a866-7e175ecb1b7b"
      },
      "cell_type": "code",
      "source": [
        "import numpy as np\n",
        "\n",
        "a = np.array([[22, 5, 16, 9], [13, 20, 19, 0], [5, 9, 1, 16], [27,13,15,19]])\n",
        "b = np.array([[10,5,20,20], [5,21,22,27], [26,19,22,3], [27,8,18,7]])\n",
        "c = np.array([24,3,17,7,11,2,21,2,24,18,3,11,14,25,2,20])\n",
        "d = np.array([3,15,24,22,19,24,4,29,6,3,20,1,11,25,26,6])\n",
        "\n",
        "one = a + b\n",
        "two = a - b\n",
        "three = a * b\n",
        "four = np.dot(a,b)\n",
        "five = c+d\n",
        "six = c-d\n",
        "seven = c*d\n",
        "eight = np.dot(c,d)\n",
        "nine = a+10\n",
        "ten = b+10\n",
        "eleven = c+15\n",
        "twelve = d+15\n",
        "thirteen = (2*a) + (2*b)\n",
        "fourteen = (a + b) * 3\n",
        "fifteen = (a-b+a-b) * 4\n",
        "\n",
        "print('1. ', one)\n",
        "print('2. ', two)\n",
        "print('3. ', three)\n",
        "print('4. ', four)\n",
        "print('5. ', five)\n",
        "print('6. ', six)\n",
        "print('7. ', seven)\n",
        "print('8. ', eight)\n",
        "print('9. ', nine)\n",
        "print('10. ', ten)\n",
        "print('11. ', eleven)\n",
        "print('12. ', twelve)\n",
        "print('13. ', thirteen)\n",
        "print('14. ', fourteen)\n",
        "print('15. ', fifteen)"
      ],
      "execution_count": 35,
      "outputs": [
        {
          "output_type": "stream",
          "text": [
            "1.  [[32 10 36 29]\n",
            " [18 41 41 27]\n",
            " [31 28 23 19]\n",
            " [54 21 33 26]]\n",
            "2.  [[ 12   0  -4 -11]\n",
            " [  8  -1  -3 -27]\n",
            " [-21 -10 -21  13]\n",
            " [  0   5  -3  12]]\n",
            "3.  [[220  25 320 180]\n",
            " [ 65 420 418   0]\n",
            " [130 171  22  48]\n",
            " [729 104 270 133]]\n",
            "4.  [[ 904  591 1064  686]\n",
            " [ 724  846 1118  857]\n",
            " [ 553  361  608  458]\n",
            " [1238  845 1498 1069]]\n",
            "5.  [27 18 41 29 30 26 25 31 30 21 23 12 25 50 28 26]\n",
            "6.  [ 21 -12  -7 -15  -8 -22  17 -27  18  15 -17  10   3   0 -24  14]\n",
            "7.  [ 72  45 408 154 209  48  84  58 144  54  60  11 154 625  52 120]\n",
            "8.  2298\n",
            "9.  [[32 15 26 19]\n",
            " [23 30 29 10]\n",
            " [15 19 11 26]\n",
            " [37 23 25 29]]\n",
            "10.  [[20 15 30 30]\n",
            " [15 31 32 37]\n",
            " [36 29 32 13]\n",
            " [37 18 28 17]]\n",
            "11.  [39 18 32 22 26 17 36 17 39 33 18 26 29 40 17 35]\n",
            "12.  [18 30 39 37 34 39 19 44 21 18 35 16 26 40 41 21]\n",
            "13.  [[ 64  20  72  58]\n",
            " [ 36  82  82  54]\n",
            " [ 62  56  46  38]\n",
            " [108  42  66  52]]\n"
          ],
          "name": "stdout"
        }
      ]
    },
    {
      "metadata": {
        "id": "nJ2iB_SKhImB",
        "colab_type": "code",
        "colab": {
          "base_uri": "https://localhost:8080/",
          "height": 34
        },
        "outputId": "6835cef5-909c-4ac5-825f-16629c6a828a"
      },
      "cell_type": "code",
      "source": [
        "print ('hello')"
      ],
      "execution_count": 12,
      "outputs": [
        {
          "output_type": "stream",
          "text": [
            "hello\n"
          ],
          "name": "stdout"
        }
      ]
    }
  ]
}